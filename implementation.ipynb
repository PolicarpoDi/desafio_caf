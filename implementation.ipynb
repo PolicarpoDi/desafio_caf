{
 "cells": [
  {
   "cell_type": "code",
   "execution_count": 1,
   "id": "ddb67a69",
   "metadata": {},
   "outputs": [],
   "source": [
    "import pandas as pd"
   ]
  },
  {
   "cell_type": "markdown",
   "id": "45eaec73",
   "metadata": {},
   "source": [
    "# Bases de Dados\n",
    "\n",
    "Nesta etapa vamos carregas as bases disponíveis para trabalharmos."
   ]
  },
  {
   "cell_type": "code",
   "execution_count": 2,
   "id": "56b7540b",
   "metadata": {},
   "outputs": [],
   "source": [
    "df_transacoes = pd.read_json('data/transactions.json')\n",
    "df_users = pd.read_json('data/users.json')\n",
    "df_customers = pd.read_json('data/customers.json')"
   ]
  },
  {
   "cell_type": "code",
   "execution_count": 3,
   "id": "3f5f696f",
   "metadata": {},
   "outputs": [
    {
     "data": {
      "text/html": [
       "<div>\n",
       "<style scoped>\n",
       "    .dataframe tbody tr th:only-of-type {\n",
       "        vertical-align: middle;\n",
       "    }\n",
       "\n",
       "    .dataframe tbody tr th {\n",
       "        vertical-align: top;\n",
       "    }\n",
       "\n",
       "    .dataframe thead th {\n",
       "        text-align: right;\n",
       "    }\n",
       "</style>\n",
       "<table border=\"1\" class=\"dataframe\">\n",
       "  <thead>\n",
       "    <tr style=\"text-align: right;\">\n",
       "      <th></th>\n",
       "      <th>_id</th>\n",
       "      <th>tenantId</th>\n",
       "      <th>userId</th>\n",
       "      <th>createdAt</th>\n",
       "      <th>updatedAt</th>\n",
       "      <th>favoriteFruit</th>\n",
       "      <th>isFraud</th>\n",
       "      <th>document</th>\n",
       "    </tr>\n",
       "  </thead>\n",
       "  <tbody>\n",
       "    <tr>\n",
       "      <th>0</th>\n",
       "      <td>641336efc5c272ff5d82eb76</td>\n",
       "      <td>64132ef6526eeb8b998e2d3c</td>\n",
       "      <td>64132e0f48ad8ae93e504d33</td>\n",
       "      <td>2021-01-08T02:24:02 +03:00</td>\n",
       "      <td>2023-02-08T01:52:32 +03:00</td>\n",
       "      <td>strawberry</td>\n",
       "      <td>True</td>\n",
       "      <td>{'documentType': 'CNH', 'documentUF': 'PA'}</td>\n",
       "    </tr>\n",
       "    <tr>\n",
       "      <th>1</th>\n",
       "      <td>641336efa086e60c7a834713</td>\n",
       "      <td>64132ef6526eeb8b998e2d3c</td>\n",
       "      <td>64132e0f1d87f017f64a3c20</td>\n",
       "      <td>2022-02-03T11:17:50 +03:00</td>\n",
       "      <td>2023-01-22T04:27:37 +03:00</td>\n",
       "      <td>apple</td>\n",
       "      <td>False</td>\n",
       "      <td>{'documentType': 'CTPS', 'documentUF': 'PA'}</td>\n",
       "    </tr>\n",
       "    <tr>\n",
       "      <th>2</th>\n",
       "      <td>641336ef5291e28207a6db05</td>\n",
       "      <td>64132ef6f991a3a1884f2cd0</td>\n",
       "      <td>64132e0fb4fade825fdbeed4</td>\n",
       "      <td>2021-09-03T01:40:07 +03:00</td>\n",
       "      <td>2023-02-10T06:17:25 +03:00</td>\n",
       "      <td>strawberry</td>\n",
       "      <td>False</td>\n",
       "      <td>{'documentType': 'RG', 'documentUF': 'PA'}</td>\n",
       "    </tr>\n",
       "    <tr>\n",
       "      <th>3</th>\n",
       "      <td>641336efbaf638cc19f96b71</td>\n",
       "      <td>64132ef6c9c22c95893e388b</td>\n",
       "      <td>64132e0fac889c7cbd7ebda3</td>\n",
       "      <td>2021-07-25T10:02:11 +03:00</td>\n",
       "      <td>2023-03-11T02:34:20 +03:00</td>\n",
       "      <td>strawberry</td>\n",
       "      <td>True</td>\n",
       "      <td>{'documentType': 'CTPS', 'documentUF': 'BA'}</td>\n",
       "    </tr>\n",
       "    <tr>\n",
       "      <th>4</th>\n",
       "      <td>641336ef24f561f394623973</td>\n",
       "      <td>64132ef68637da8c371cdc09</td>\n",
       "      <td>64132e0f16e8266d4823236c</td>\n",
       "      <td>2022-01-26T11:01:27 +03:00</td>\n",
       "      <td>2023-01-14T06:52:42 +03:00</td>\n",
       "      <td>strawberry</td>\n",
       "      <td>True</td>\n",
       "      <td>{'documentType': 'CNH', 'documentUF': 'RJ'}</td>\n",
       "    </tr>\n",
       "  </tbody>\n",
       "</table>\n",
       "</div>"
      ],
      "text/plain": [
       "                        _id                  tenantId  \\\n",
       "0  641336efc5c272ff5d82eb76  64132ef6526eeb8b998e2d3c   \n",
       "1  641336efa086e60c7a834713  64132ef6526eeb8b998e2d3c   \n",
       "2  641336ef5291e28207a6db05  64132ef6f991a3a1884f2cd0   \n",
       "3  641336efbaf638cc19f96b71  64132ef6c9c22c95893e388b   \n",
       "4  641336ef24f561f394623973  64132ef68637da8c371cdc09   \n",
       "\n",
       "                     userId                   createdAt  \\\n",
       "0  64132e0f48ad8ae93e504d33  2021-01-08T02:24:02 +03:00   \n",
       "1  64132e0f1d87f017f64a3c20  2022-02-03T11:17:50 +03:00   \n",
       "2  64132e0fb4fade825fdbeed4  2021-09-03T01:40:07 +03:00   \n",
       "3  64132e0fac889c7cbd7ebda3  2021-07-25T10:02:11 +03:00   \n",
       "4  64132e0f16e8266d4823236c  2022-01-26T11:01:27 +03:00   \n",
       "\n",
       "                    updatedAt favoriteFruit  isFraud  \\\n",
       "0  2023-02-08T01:52:32 +03:00    strawberry     True   \n",
       "1  2023-01-22T04:27:37 +03:00         apple    False   \n",
       "2  2023-02-10T06:17:25 +03:00    strawberry    False   \n",
       "3  2023-03-11T02:34:20 +03:00    strawberry     True   \n",
       "4  2023-01-14T06:52:42 +03:00    strawberry     True   \n",
       "\n",
       "                                       document  \n",
       "0   {'documentType': 'CNH', 'documentUF': 'PA'}  \n",
       "1  {'documentType': 'CTPS', 'documentUF': 'PA'}  \n",
       "2    {'documentType': 'RG', 'documentUF': 'PA'}  \n",
       "3  {'documentType': 'CTPS', 'documentUF': 'BA'}  \n",
       "4   {'documentType': 'CNH', 'documentUF': 'RJ'}  "
      ]
     },
     "execution_count": 3,
     "metadata": {},
     "output_type": "execute_result"
    }
   ],
   "source": [
    "df_transacoes.head()"
   ]
  },
  {
   "cell_type": "code",
   "execution_count": 4,
   "id": "45b0bf6f",
   "metadata": {},
   "outputs": [
    {
     "data": {
      "text/html": [
       "<div>\n",
       "<style scoped>\n",
       "    .dataframe tbody tr th:only-of-type {\n",
       "        vertical-align: middle;\n",
       "    }\n",
       "\n",
       "    .dataframe tbody tr th {\n",
       "        vertical-align: top;\n",
       "    }\n",
       "\n",
       "    .dataframe thead th {\n",
       "        text-align: right;\n",
       "    }\n",
       "</style>\n",
       "<table border=\"1\" class=\"dataframe\">\n",
       "  <thead>\n",
       "    <tr style=\"text-align: right;\">\n",
       "      <th></th>\n",
       "      <th>_id</th>\n",
       "      <th>name</th>\n",
       "      <th>email</th>\n",
       "      <th>createdAt</th>\n",
       "      <th>birthdate</th>\n",
       "    </tr>\n",
       "  </thead>\n",
       "  <tbody>\n",
       "    <tr>\n",
       "      <th>0</th>\n",
       "      <td>64132e0fa1b98612a1366a0a</td>\n",
       "      <td>Lucy Small</td>\n",
       "      <td>gallagherfowler@slax.com</td>\n",
       "      <td>2020-10-15T08:50:36 +03:00</td>\n",
       "      <td>1990-11-09T04:23:11 +02:00</td>\n",
       "    </tr>\n",
       "    <tr>\n",
       "      <th>1</th>\n",
       "      <td>64132e0f90329937be6d5b65</td>\n",
       "      <td>Alvarado Tanner</td>\n",
       "      <td>kathiekirk@ecratic.com</td>\n",
       "      <td>2021-03-31T04:35:35 +03:00</td>\n",
       "      <td>1989-07-29T03:39:13 +03:00</td>\n",
       "    </tr>\n",
       "    <tr>\n",
       "      <th>2</th>\n",
       "      <td>64132e0f429adbbe0334ad00</td>\n",
       "      <td>Tucker Wright</td>\n",
       "      <td>mckeebooth@deminimum.com</td>\n",
       "      <td>2021-01-12T06:28:25 +03:00</td>\n",
       "      <td>1992-10-11T06:36:20 +03:00</td>\n",
       "    </tr>\n",
       "    <tr>\n",
       "      <th>3</th>\n",
       "      <td>64132e0f05e9b1d120893ffe</td>\n",
       "      <td>Oneill Molina</td>\n",
       "      <td>banksgoodwin@fleetmix.com</td>\n",
       "      <td>2021-03-21T10:40:58 +03:00</td>\n",
       "      <td>1981-01-27T07:38:46 +03:00</td>\n",
       "    </tr>\n",
       "    <tr>\n",
       "      <th>4</th>\n",
       "      <td>64132e0f483bdb42b75e860c</td>\n",
       "      <td>Roberson Miller</td>\n",
       "      <td>ricewebb@biohab.com</td>\n",
       "      <td>2021-12-31T08:11:40 +03:00</td>\n",
       "      <td>1981-05-16T08:02:29 +03:00</td>\n",
       "    </tr>\n",
       "  </tbody>\n",
       "</table>\n",
       "</div>"
      ],
      "text/plain": [
       "                        _id             name                      email  \\\n",
       "0  64132e0fa1b98612a1366a0a       Lucy Small   gallagherfowler@slax.com   \n",
       "1  64132e0f90329937be6d5b65  Alvarado Tanner     kathiekirk@ecratic.com   \n",
       "2  64132e0f429adbbe0334ad00    Tucker Wright   mckeebooth@deminimum.com   \n",
       "3  64132e0f05e9b1d120893ffe    Oneill Molina  banksgoodwin@fleetmix.com   \n",
       "4  64132e0f483bdb42b75e860c  Roberson Miller        ricewebb@biohab.com   \n",
       "\n",
       "                    createdAt                   birthdate  \n",
       "0  2020-10-15T08:50:36 +03:00  1990-11-09T04:23:11 +02:00  \n",
       "1  2021-03-31T04:35:35 +03:00  1989-07-29T03:39:13 +03:00  \n",
       "2  2021-01-12T06:28:25 +03:00  1992-10-11T06:36:20 +03:00  \n",
       "3  2021-03-21T10:40:58 +03:00  1981-01-27T07:38:46 +03:00  \n",
       "4  2021-12-31T08:11:40 +03:00  1981-05-16T08:02:29 +03:00  "
      ]
     },
     "execution_count": 4,
     "metadata": {},
     "output_type": "execute_result"
    }
   ],
   "source": [
    "df_users.head()"
   ]
  },
  {
   "cell_type": "code",
   "execution_count": 5,
   "id": "82685ed0",
   "metadata": {},
   "outputs": [
    {
     "data": {
      "text/html": [
       "<div>\n",
       "<style scoped>\n",
       "    .dataframe tbody tr th:only-of-type {\n",
       "        vertical-align: middle;\n",
       "    }\n",
       "\n",
       "    .dataframe tbody tr th {\n",
       "        vertical-align: top;\n",
       "    }\n",
       "\n",
       "    .dataframe thead th {\n",
       "        text-align: right;\n",
       "    }\n",
       "</style>\n",
       "<table border=\"1\" class=\"dataframe\">\n",
       "  <thead>\n",
       "    <tr style=\"text-align: right;\">\n",
       "      <th></th>\n",
       "      <th>_id</th>\n",
       "      <th>fantasyName</th>\n",
       "      <th>cnpj</th>\n",
       "      <th>status</th>\n",
       "      <th>segment</th>\n",
       "    </tr>\n",
       "  </thead>\n",
       "  <tbody>\n",
       "    <tr>\n",
       "      <th>0</th>\n",
       "      <td>64132ef6526eeb8b998e2d3c</td>\n",
       "      <td>Ecratic</td>\n",
       "      <td>38792916000102</td>\n",
       "      <td>Ativo</td>\n",
       "      <td>Banco</td>\n",
       "    </tr>\n",
       "    <tr>\n",
       "      <th>1</th>\n",
       "      <td>64132ef6f991a3a1884f2cd0</td>\n",
       "      <td>Stockpost</td>\n",
       "      <td>87715692000132</td>\n",
       "      <td>Inativo</td>\n",
       "      <td>Banco</td>\n",
       "    </tr>\n",
       "    <tr>\n",
       "      <th>2</th>\n",
       "      <td>64132ef6dca9067d51ca1b30</td>\n",
       "      <td>Eschoir</td>\n",
       "      <td>71365876000180</td>\n",
       "      <td>Inativo</td>\n",
       "      <td>Ecommerce</td>\n",
       "    </tr>\n",
       "    <tr>\n",
       "      <th>3</th>\n",
       "      <td>64132ef6eea665cc154f614a</td>\n",
       "      <td>Verton</td>\n",
       "      <td>62782441000140</td>\n",
       "      <td>Ativo</td>\n",
       "      <td>Banco</td>\n",
       "    </tr>\n",
       "    <tr>\n",
       "      <th>4</th>\n",
       "      <td>64132ef662f97d5858f87aba</td>\n",
       "      <td>Earthmark</td>\n",
       "      <td>46522418000160</td>\n",
       "      <td>Ativo</td>\n",
       "      <td>Ecommerce</td>\n",
       "    </tr>\n",
       "  </tbody>\n",
       "</table>\n",
       "</div>"
      ],
      "text/plain": [
       "                        _id fantasyName            cnpj   status    segment\n",
       "0  64132ef6526eeb8b998e2d3c     Ecratic  38792916000102    Ativo      Banco\n",
       "1  64132ef6f991a3a1884f2cd0   Stockpost  87715692000132  Inativo      Banco\n",
       "2  64132ef6dca9067d51ca1b30     Eschoir  71365876000180  Inativo  Ecommerce\n",
       "3  64132ef6eea665cc154f614a      Verton  62782441000140    Ativo      Banco\n",
       "4  64132ef662f97d5858f87aba   Earthmark  46522418000160    Ativo  Ecommerce"
      ]
     },
     "execution_count": 5,
     "metadata": {},
     "output_type": "execute_result"
    }
   ],
   "source": [
    "df_customers.head()"
   ]
  },
  {
   "cell_type": "markdown",
   "id": "1007e88f",
   "metadata": {},
   "source": [
    "## Qualidade dos Dados\n",
    "\n",
    "Faça uma análise (simples) de qualidade da informação que você recebeu. Não assuma nada nos datasets!"
   ]
  },
  {
   "cell_type": "markdown",
   "id": "84975fa1",
   "metadata": {},
   "source": [
    "## Valores Nulos"
   ]
  },
  {
   "cell_type": "code",
   "execution_count": 6,
   "id": "f4d23b69",
   "metadata": {},
   "outputs": [
    {
     "data": {
      "text/plain": [
       "_id            0\n",
       "fantasyName    0\n",
       "cnpj           0\n",
       "status         0\n",
       "segment        0\n",
       "dtype: int64"
      ]
     },
     "execution_count": 6,
     "metadata": {},
     "output_type": "execute_result"
    }
   ],
   "source": [
    "df_customers.isnull().sum()"
   ]
  },
  {
   "cell_type": "code",
   "execution_count": 7,
   "id": "b763c7a4",
   "metadata": {},
   "outputs": [
    {
     "data": {
      "text/plain": [
       "_id          0\n",
       "name         0\n",
       "email        0\n",
       "createdAt    0\n",
       "birthdate    0\n",
       "dtype: int64"
      ]
     },
     "execution_count": 7,
     "metadata": {},
     "output_type": "execute_result"
    }
   ],
   "source": [
    "df_users.isnull().sum()"
   ]
  },
  {
   "cell_type": "code",
   "execution_count": 8,
   "id": "08cb1bfc",
   "metadata": {},
   "outputs": [
    {
     "data": {
      "text/plain": [
       "_id              0\n",
       "tenantId         0\n",
       "userId           0\n",
       "createdAt        0\n",
       "updatedAt        0\n",
       "favoriteFruit    0\n",
       "isFraud          0\n",
       "document         0\n",
       "dtype: int64"
      ]
     },
     "execution_count": 8,
     "metadata": {},
     "output_type": "execute_result"
    }
   ],
   "source": [
    "df_transacoes.isnull().sum()"
   ]
  },
  {
   "cell_type": "markdown",
   "id": "59e4f712",
   "metadata": {},
   "source": [
    "## Dados Duplicados"
   ]
  },
  {
   "cell_type": "code",
   "execution_count": 9,
   "id": "12a0d8ce",
   "metadata": {},
   "outputs": [
    {
     "data": {
      "text/plain": [
       "np.int64(0)"
      ]
     },
     "execution_count": 9,
     "metadata": {},
     "output_type": "execute_result"
    }
   ],
   "source": [
    "df_customers.duplicated().sum()"
   ]
  },
  {
   "cell_type": "code",
   "execution_count": 10,
   "id": "e6567fcf",
   "metadata": {},
   "outputs": [
    {
     "data": {
      "text/plain": [
       "np.int64(0)"
      ]
     },
     "execution_count": 10,
     "metadata": {},
     "output_type": "execute_result"
    }
   ],
   "source": [
    "df_users.duplicated().sum()"
   ]
  },
  {
   "cell_type": "markdown",
   "id": "f6cb4f57",
   "metadata": {},
   "source": [
    "## Tipos de dados"
   ]
  },
  {
   "cell_type": "code",
   "execution_count": 23,
   "id": "91783216",
   "metadata": {},
   "outputs": [
    {
     "name": "stdout",
     "output_type": "stream",
     "text": [
      "_id <class 'str'>\n",
      "tenantId <class 'str'>\n",
      "userId <class 'str'>\n",
      "createdAt <class 'str'>\n",
      "updatedAt <class 'str'>\n",
      "favoriteFruit <class 'str'>\n",
      "isFraud <class 'numpy.bool'>\n",
      "document <class 'dict'>\n"
     ]
    }
   ],
   "source": [
    "for col in df_transacoes.columns:\n",
    "    print(col, type(df_transacoes[col].iloc[0]))"
   ]
  },
  {
   "cell_type": "markdown",
   "id": "ad96d4b7",
   "metadata": {},
   "source": [
    "# Modelagem\n",
    "Implemente os cruzamentos e modelagem correta nas bases, de acordo com o `README.md` disponível.\n",
    "\n",
    "Aqui, será verificada sua capacidade de entender, modelar e disponibilizar dados de modo que seja simples, limpo e eficiente. Você pode escolher qualquer estratégia que desejar (normalização, dimensionamento, fato, etc)."
   ]
  },
  {
   "cell_type": "code",
   "execution_count": 7,
   "id": "6ccee0c9",
   "metadata": {},
   "outputs": [],
   "source": [
    "# Implementação"
   ]
  },
  {
   "cell_type": "code",
   "execution_count": null,
   "id": "d507868d",
   "metadata": {},
   "outputs": [],
   "source": []
  },
  {
   "cell_type": "code",
   "execution_count": null,
   "id": "5050d79e",
   "metadata": {},
   "outputs": [],
   "source": []
  },
  {
   "cell_type": "markdown",
   "id": "91d84911",
   "metadata": {},
   "source": [
    "# Disponibilização e Processamento\n",
    "\n",
    "Agora que você já modelou as bases, discuta sobre as estratégias de armazenamento.\n",
    "\n",
    "1. Como você disponibilizaria estas bases no data lake (em S3)? Não precisa enviar o arquivo, apenas discuta.\n",
    "2. Qual formato de arquivo você escolheria para persistir estas bases? Por que?\n",
    "3. Você prefere bases normalizadas ou desnormalizadas? Discuta os pontos positivos e negativos de cada um.\n",
    "\n",
    "Persista sua modelagem final conforme suas opções e responda as próximas perguntas a partir dela. Não esqueça de desalocar os dataframes antigos!"
   ]
  },
  {
   "cell_type": "code",
   "execution_count": 8,
   "id": "38b10e5e",
   "metadata": {},
   "outputs": [],
   "source": [
    "# Implementação"
   ]
  },
  {
   "cell_type": "code",
   "execution_count": null,
   "id": "673657a4",
   "metadata": {},
   "outputs": [],
   "source": []
  },
  {
   "cell_type": "code",
   "execution_count": null,
   "id": "321f8e4f",
   "metadata": {},
   "outputs": [],
   "source": []
  },
  {
   "cell_type": "markdown",
   "id": "2d0b0446",
   "metadata": {},
   "source": [
    "# Perguntas"
   ]
  },
  {
   "cell_type": "markdown",
   "id": "d7df9913",
   "metadata": {},
   "source": [
    "Agora com a sua modelagem pronta, responda as seguintes perguntas utilizando SQL:\n",
    "\n",
    "### Obrigatórias\n",
    "1. Qual a média de tentativas de fraudes por mês (quantidade)?\n",
    "2. Quais são as UFs com o maior percentual de tentativa de fraude?\n",
    "3. Em quais meses do ano o percentual de tentativa de fraude foi maior e em quais foram menores?\n",
    "4. Quais são os 10 clientes com maior quantidade de transações?\n",
    "5. Qual a idade média dos usuários? \n",
    "6. Qual documento é mais utilizado pelos usuários?\n",
    "\n",
    "### Desafio Extra\n",
    "1. Há na base transações iguais mas com data de atualização diferente (houve modificação na transação e por isso ela ganhou um novo registro). Faça um select que retorne sempre a versão mais recente das transações, permitindo assim a visualização das informações mais recentes."
   ]
  },
  {
   "cell_type": "code",
   "execution_count": null,
   "id": "df1c4b98",
   "metadata": {},
   "outputs": [],
   "source": []
  },
  {
   "cell_type": "code",
   "execution_count": null,
   "id": "379e155b",
   "metadata": {},
   "outputs": [],
   "source": []
  }
 ],
 "metadata": {
  "kernelspec": {
   "display_name": "Python 3 (ipykernel)",
   "language": "python",
   "name": "python3"
  },
  "language_info": {
   "codemirror_mode": {
    "name": "ipython",
    "version": 3
   },
   "file_extension": ".py",
   "mimetype": "text/x-python",
   "name": "python",
   "nbconvert_exporter": "python",
   "pygments_lexer": "ipython3",
   "version": "3.10.6"
  }
 },
 "nbformat": 4,
 "nbformat_minor": 5
}
